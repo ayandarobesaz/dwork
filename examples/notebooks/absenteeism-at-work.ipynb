{
 "cells": [
  {
   "cell_type": "code",
   "execution_count": 1,
   "metadata": {},
   "outputs": [],
   "source": [
    "# We import required libraries and set some preferences\n",
    "\n",
    "import numpy as np\n",
    "import pandas as pd\n",
    "import random\n",
    "\n",
    "%matplotlib inline\n",
    "import matplotlib.pylab as pl\n",
    "\n",
    "import matplotlib\n",
    "font = {'family' : 'Arial, Helvetica, sans-serif',\n",
    "        'weight' : '200',\n",
    "        'size'   : 14}\n",
    "\n",
    "matplotlib.rc('font', **font)"
   ]
  },
  {
   "cell_type": "code",
   "execution_count": 2,
   "metadata": {},
   "outputs": [],
   "source": [
    "# We import the dataset\n",
    "\n",
    "filename = \"../datasets/absenteeism_at_work.csv\"\n",
    "df = pd.read_csv(filename, sep=';')"
   ]
  },
  {
   "cell_type": "code",
   "execution_count": 3,
   "metadata": {},
   "outputs": [],
   "source": [
    "# We define a simple data schema for the data.\n",
    "# This helps Dwork to estimate the required amount of noise that we need\n",
    "# to add in order to achieve a given privacy guarantee.\n",
    "from dwork.dataschema import DataSchema\n",
    "from dwork.language.types import Integer, Float\n",
    "\n",
    "class AbsenteeismSchema(DataSchema):\n",
    "\n",
    "    \"\"\"\n",
    "    We only define attributes that we really want to use in our example.\n",
    "    \"\"\"\n",
    "\n",
    "    Weight = Integer(min=0, max=200)\n",
    "    Height = Integer(min=0, max=200)"
   ]
  },
  {
   "cell_type": "code",
   "execution_count": 4,
   "metadata": {},
   "outputs": [],
   "source": [
    "# We create a Dwork dataset from it\n",
    "\n",
    "from dwork.dataset.pandas import PandasDataset\n",
    "ds = PandasDataset(AbsenteeismSchema, df)"
   ]
  },
  {
   "cell_type": "code",
   "execution_count": 5,
   "metadata": {},
   "outputs": [],
   "source": [
    "# Now, the first thing we do is to calculate a simple sum.\n",
    "# This is not very useful in practice but demonstrates how\n",
    "# Dwork automates the calculation of the sensitivity.\n",
    "\n",
    "# we add two values together (which is nonsensical in this case)\n",
    "x = (ds[\"Weight\"]+ds[\"Height\"]).sum()\n",
    "assert not x.is_dp()\n",
    "\n",
    "tx = (ds.df[\"Weight\"]+ds.df[\"Height\"]).sum()\n",
    "# we make sure the exact value is what we expect\n",
    "assert tx == 185851\n",
    "\n",
    "# we make sure the exact value is identical to the expression value\n",
    "assert tx == x.true()\n",
    "\n",
    "# we make sure the \n",
    "assert 183000 <= x.dp(0.5) <= 189000\n",
    "\n",
    "uniques = set()\n",
    "for i in range(10):\n",
    "    xdp = x.dp(0.5)\n",
    "    uniques.add(xdp)\n",
    "    assert 183000 <= xdp <= 189000\n",
    "\n",
    "# we check that the DP mechanism does not always produce the same value\n",
    "# (this is not a proper DP test)\n",
    "# assert len(uniques) >= 3"
   ]
  },
  {
   "cell_type": "code",
   "execution_count": 6,
   "metadata": {},
   "outputs": [],
   "source": [
    "# Now, we can also calculate more complex (and useful) expressions,\n",
    "# for example the mean weight of all people in the dataset.\n",
    "\n",
    "x = ds[\"Weight\"].sum()/ds.len()\n",
    "assert not x.is_dp()\n",
    "\n",
    "tx = ds.df[\"Weight\"].sum()/len(ds.df)\n",
    "# we make sure the exact value is what we expect\n",
    "assert tx == 79.03513513513514\n",
    "\n",
    "# we make sure the exact value is identical to the expression value\n",
    "assert tx == x.true()\n",
    "\n",
    "n = len(ds.df)\n",
    "s = ds.df[\"Weight\"].sum()\n",
    "# Dwork overestimates the sensitivity here because it cannot know that\n",
    "# the length of the array will never decrease when the sum increases.\n",
    "# It just knows that the dividend has a sensitivity of 200 and the\n",
    "# divisor has a sensitivity of 1. The true sensitivity of this\n",
    "# expression is given as 0.27\n",
    "ts = (s+200)/(n-1)-s/n\n",
    "\n",
    "# we make sure the sensitivity is lower than that of the original value\n",
    "assert x.sensitivity() == ts\n",
    "\n",
    "uniques = set()\n",
    "for i in range(10):\n",
    "    xdp = x.dp(0.5)\n",
    "    uniques.add(xdp)\n",
    "    assert 60 <= xdp <= 100\n",
    "\n",
    "# we check that the DP mechanism does not always produce the same value\n",
    "# (this is not a proper DP test)\n",
    "assert len(uniques) >= 3"
   ]
  },
  {
   "cell_type": "markdown",
   "metadata": {},
   "source": [
    "# Aggregate Statistics\n",
    "\n",
    "Often, when analyzing a given dataset we're interested in specific statistical quantities like e.g. the mean of a given attribute or the distribution of values for a given attribute or attribute combination. We can caculate all these quantities in a differentially private mannner using Dwork. To do this, we can make use of Dworks' \"group by\" functionality, which will produce groups of datapoints based on a set of criteria we define. For each of these groups we can then calculate statistical quantities like the sum or mean value of an attribute, or the number of datapoints in that given Group. Dwork will make the results of the given expressions / quantities differentially private by first calculating the sensitivity of the given expression in respect to a  single datapoint and then, based on this sensitivity and the type of the expression, adding a sufficient amount of noise to achieve a given $\\epsilon$ value. Please note taht this $\\epsilon$ value only applies to that single expression. Often, we are interested the overall $\\epsilon$ of all the expressions that we calculate, since this value provides an upper bound for the privacy loss of an individual. Even defining this privacy loss is not easy in many cases, as there are different risk and attack models that we can use to quantify the privacy risk of an individual. Typically, we consider two distinct risks: The so-called re-identification risk, and the inference risk. Re-identification means that an adversary is able to asser that the data of a given individual was contained in either the entire dataset or a subgroup of the dataset. Inference risk means that an adversary, who might assume or know that the data of a given individual is part of a dataset or group of datapoints, is able to infer the value of a single or multiple attributes of that individual based on the data. Which of these risks is more severe strongly depends on the context and the specific data being analyzed. In some cases, re-identifying an individual in a dataset, or equivalently, asserting that the data of an individual is part of a dataset, can already pose a risk to that individual. For example, learning that a persons' data is contained in a dataset that describes individuals suffering from a serious health condition might have a negative impact on the life of that individual. Similarly, an individual might suffer negative consequences if values or value ranges of individual attributes can be inferred by an adversary. For example, learning or (accurately) estimating the salary of an individual from a dataset of \"anonymous\" wage data might lead to social pressure or mobbing of that individual within an organization.\n",
    "\n",
    "When calculating statistics for a large number of datapoints, the overall $\\epsilon$ for a given datapoint will often strongly depend on the specific attribute values of that datapoint, as those values determine in which groups the datapoint appears, which in turn determines which expressions are calculated using attribute on the datapoint. In addition, the sensitivity of an expression in respect to a specific datapoint might not be constant. For example, when calculating the minimum value of a range of datapoints, the smallest datapoints will often have a higher sensitivity in respect to the calculated minimum value than the largest datapoints. Hence, even when calculating a single DP expression the given $\\epsilon$ is a worst-case value and might drastically overestimate the actual $\\epsilon$ value of a specific datapoint, and thus individual.\n",
    "\n",
    "As an example, we will first calculate several descriptive statistics (in particular histograms) on the original data, and then use Dwork to produce differentially private versions of these statistics. "
   ]
  },
  {
   "cell_type": "code",
   "execution_count": 7,
   "metadata": {},
   "outputs": [
    {
     "data": {
      "text/html": [
       "<div>\n",
       "<style scoped>\n",
       "    .dataframe tbody tr th:only-of-type {\n",
       "        vertical-align: middle;\n",
       "    }\n",
       "\n",
       "    .dataframe tbody tr th {\n",
       "        vertical-align: top;\n",
       "    }\n",
       "\n",
       "    .dataframe thead th {\n",
       "        text-align: right;\n",
       "    }\n",
       "</style>\n",
       "<table border=\"1\" class=\"dataframe\">\n",
       "  <thead>\n",
       "    <tr style=\"text-align: right;\">\n",
       "      <th></th>\n",
       "      <th>ID</th>\n",
       "      <th>Reason for absence</th>\n",
       "      <th>Month of absence</th>\n",
       "      <th>Day of the week</th>\n",
       "      <th>Seasons</th>\n",
       "      <th>Transportation expense</th>\n",
       "      <th>Distance from Residence to Work</th>\n",
       "      <th>Service time</th>\n",
       "      <th>Age</th>\n",
       "      <th>Work load Average/day</th>\n",
       "      <th>...</th>\n",
       "      <th>Disciplinary failure</th>\n",
       "      <th>Education</th>\n",
       "      <th>Son</th>\n",
       "      <th>Social drinker</th>\n",
       "      <th>Social smoker</th>\n",
       "      <th>Pet</th>\n",
       "      <th>Weight</th>\n",
       "      <th>Height</th>\n",
       "      <th>Body mass index</th>\n",
       "      <th>Absenteeism time in hours</th>\n",
       "    </tr>\n",
       "  </thead>\n",
       "  <tbody>\n",
       "    <tr>\n",
       "      <th>0</th>\n",
       "      <td>11</td>\n",
       "      <td>26</td>\n",
       "      <td>7</td>\n",
       "      <td>3</td>\n",
       "      <td>1</td>\n",
       "      <td>289</td>\n",
       "      <td>36</td>\n",
       "      <td>13</td>\n",
       "      <td>33</td>\n",
       "      <td>239.554</td>\n",
       "      <td>...</td>\n",
       "      <td>0</td>\n",
       "      <td>1</td>\n",
       "      <td>2</td>\n",
       "      <td>1</td>\n",
       "      <td>0</td>\n",
       "      <td>1</td>\n",
       "      <td>90</td>\n",
       "      <td>172</td>\n",
       "      <td>30</td>\n",
       "      <td>4</td>\n",
       "    </tr>\n",
       "    <tr>\n",
       "      <th>1</th>\n",
       "      <td>36</td>\n",
       "      <td>0</td>\n",
       "      <td>7</td>\n",
       "      <td>3</td>\n",
       "      <td>1</td>\n",
       "      <td>118</td>\n",
       "      <td>13</td>\n",
       "      <td>18</td>\n",
       "      <td>50</td>\n",
       "      <td>239.554</td>\n",
       "      <td>...</td>\n",
       "      <td>1</td>\n",
       "      <td>1</td>\n",
       "      <td>1</td>\n",
       "      <td>1</td>\n",
       "      <td>0</td>\n",
       "      <td>0</td>\n",
       "      <td>98</td>\n",
       "      <td>178</td>\n",
       "      <td>31</td>\n",
       "      <td>0</td>\n",
       "    </tr>\n",
       "    <tr>\n",
       "      <th>2</th>\n",
       "      <td>3</td>\n",
       "      <td>23</td>\n",
       "      <td>7</td>\n",
       "      <td>4</td>\n",
       "      <td>1</td>\n",
       "      <td>179</td>\n",
       "      <td>51</td>\n",
       "      <td>18</td>\n",
       "      <td>38</td>\n",
       "      <td>239.554</td>\n",
       "      <td>...</td>\n",
       "      <td>0</td>\n",
       "      <td>1</td>\n",
       "      <td>0</td>\n",
       "      <td>1</td>\n",
       "      <td>0</td>\n",
       "      <td>0</td>\n",
       "      <td>89</td>\n",
       "      <td>170</td>\n",
       "      <td>31</td>\n",
       "      <td>2</td>\n",
       "    </tr>\n",
       "    <tr>\n",
       "      <th>3</th>\n",
       "      <td>7</td>\n",
       "      <td>7</td>\n",
       "      <td>7</td>\n",
       "      <td>5</td>\n",
       "      <td>1</td>\n",
       "      <td>279</td>\n",
       "      <td>5</td>\n",
       "      <td>14</td>\n",
       "      <td>39</td>\n",
       "      <td>239.554</td>\n",
       "      <td>...</td>\n",
       "      <td>0</td>\n",
       "      <td>1</td>\n",
       "      <td>2</td>\n",
       "      <td>1</td>\n",
       "      <td>1</td>\n",
       "      <td>0</td>\n",
       "      <td>68</td>\n",
       "      <td>168</td>\n",
       "      <td>24</td>\n",
       "      <td>4</td>\n",
       "    </tr>\n",
       "    <tr>\n",
       "      <th>4</th>\n",
       "      <td>11</td>\n",
       "      <td>23</td>\n",
       "      <td>7</td>\n",
       "      <td>5</td>\n",
       "      <td>1</td>\n",
       "      <td>289</td>\n",
       "      <td>36</td>\n",
       "      <td>13</td>\n",
       "      <td>33</td>\n",
       "      <td>239.554</td>\n",
       "      <td>...</td>\n",
       "      <td>0</td>\n",
       "      <td>1</td>\n",
       "      <td>2</td>\n",
       "      <td>1</td>\n",
       "      <td>0</td>\n",
       "      <td>1</td>\n",
       "      <td>90</td>\n",
       "      <td>172</td>\n",
       "      <td>30</td>\n",
       "      <td>2</td>\n",
       "    </tr>\n",
       "    <tr>\n",
       "      <th>...</th>\n",
       "      <td>...</td>\n",
       "      <td>...</td>\n",
       "      <td>...</td>\n",
       "      <td>...</td>\n",
       "      <td>...</td>\n",
       "      <td>...</td>\n",
       "      <td>...</td>\n",
       "      <td>...</td>\n",
       "      <td>...</td>\n",
       "      <td>...</td>\n",
       "      <td>...</td>\n",
       "      <td>...</td>\n",
       "      <td>...</td>\n",
       "      <td>...</td>\n",
       "      <td>...</td>\n",
       "      <td>...</td>\n",
       "      <td>...</td>\n",
       "      <td>...</td>\n",
       "      <td>...</td>\n",
       "      <td>...</td>\n",
       "      <td>...</td>\n",
       "    </tr>\n",
       "    <tr>\n",
       "      <th>735</th>\n",
       "      <td>11</td>\n",
       "      <td>14</td>\n",
       "      <td>7</td>\n",
       "      <td>3</td>\n",
       "      <td>1</td>\n",
       "      <td>289</td>\n",
       "      <td>36</td>\n",
       "      <td>13</td>\n",
       "      <td>33</td>\n",
       "      <td>264.604</td>\n",
       "      <td>...</td>\n",
       "      <td>0</td>\n",
       "      <td>1</td>\n",
       "      <td>2</td>\n",
       "      <td>1</td>\n",
       "      <td>0</td>\n",
       "      <td>1</td>\n",
       "      <td>90</td>\n",
       "      <td>172</td>\n",
       "      <td>30</td>\n",
       "      <td>8</td>\n",
       "    </tr>\n",
       "    <tr>\n",
       "      <th>736</th>\n",
       "      <td>1</td>\n",
       "      <td>11</td>\n",
       "      <td>7</td>\n",
       "      <td>3</td>\n",
       "      <td>1</td>\n",
       "      <td>235</td>\n",
       "      <td>11</td>\n",
       "      <td>14</td>\n",
       "      <td>37</td>\n",
       "      <td>264.604</td>\n",
       "      <td>...</td>\n",
       "      <td>0</td>\n",
       "      <td>3</td>\n",
       "      <td>1</td>\n",
       "      <td>0</td>\n",
       "      <td>0</td>\n",
       "      <td>1</td>\n",
       "      <td>88</td>\n",
       "      <td>172</td>\n",
       "      <td>29</td>\n",
       "      <td>4</td>\n",
       "    </tr>\n",
       "    <tr>\n",
       "      <th>737</th>\n",
       "      <td>4</td>\n",
       "      <td>0</td>\n",
       "      <td>0</td>\n",
       "      <td>3</td>\n",
       "      <td>1</td>\n",
       "      <td>118</td>\n",
       "      <td>14</td>\n",
       "      <td>13</td>\n",
       "      <td>40</td>\n",
       "      <td>271.219</td>\n",
       "      <td>...</td>\n",
       "      <td>0</td>\n",
       "      <td>1</td>\n",
       "      <td>1</td>\n",
       "      <td>1</td>\n",
       "      <td>0</td>\n",
       "      <td>8</td>\n",
       "      <td>98</td>\n",
       "      <td>170</td>\n",
       "      <td>34</td>\n",
       "      <td>0</td>\n",
       "    </tr>\n",
       "    <tr>\n",
       "      <th>738</th>\n",
       "      <td>8</td>\n",
       "      <td>0</td>\n",
       "      <td>0</td>\n",
       "      <td>4</td>\n",
       "      <td>2</td>\n",
       "      <td>231</td>\n",
       "      <td>35</td>\n",
       "      <td>14</td>\n",
       "      <td>39</td>\n",
       "      <td>271.219</td>\n",
       "      <td>...</td>\n",
       "      <td>0</td>\n",
       "      <td>1</td>\n",
       "      <td>2</td>\n",
       "      <td>1</td>\n",
       "      <td>0</td>\n",
       "      <td>2</td>\n",
       "      <td>100</td>\n",
       "      <td>170</td>\n",
       "      <td>35</td>\n",
       "      <td>0</td>\n",
       "    </tr>\n",
       "    <tr>\n",
       "      <th>739</th>\n",
       "      <td>35</td>\n",
       "      <td>0</td>\n",
       "      <td>0</td>\n",
       "      <td>6</td>\n",
       "      <td>3</td>\n",
       "      <td>179</td>\n",
       "      <td>45</td>\n",
       "      <td>14</td>\n",
       "      <td>53</td>\n",
       "      <td>271.219</td>\n",
       "      <td>...</td>\n",
       "      <td>0</td>\n",
       "      <td>1</td>\n",
       "      <td>1</td>\n",
       "      <td>0</td>\n",
       "      <td>0</td>\n",
       "      <td>1</td>\n",
       "      <td>77</td>\n",
       "      <td>175</td>\n",
       "      <td>25</td>\n",
       "      <td>0</td>\n",
       "    </tr>\n",
       "  </tbody>\n",
       "</table>\n",
       "<p>740 rows × 21 columns</p>\n",
       "</div>"
      ],
      "text/plain": [
       "     ID  Reason for absence  Month of absence  Day of the week  Seasons  \\\n",
       "0    11                  26                 7                3        1   \n",
       "1    36                   0                 7                3        1   \n",
       "2     3                  23                 7                4        1   \n",
       "3     7                   7                 7                5        1   \n",
       "4    11                  23                 7                5        1   \n",
       "..   ..                 ...               ...              ...      ...   \n",
       "735  11                  14                 7                3        1   \n",
       "736   1                  11                 7                3        1   \n",
       "737   4                   0                 0                3        1   \n",
       "738   8                   0                 0                4        2   \n",
       "739  35                   0                 0                6        3   \n",
       "\n",
       "     Transportation expense  Distance from Residence to Work  Service time  \\\n",
       "0                       289                               36            13   \n",
       "1                       118                               13            18   \n",
       "2                       179                               51            18   \n",
       "3                       279                                5            14   \n",
       "4                       289                               36            13   \n",
       "..                      ...                              ...           ...   \n",
       "735                     289                               36            13   \n",
       "736                     235                               11            14   \n",
       "737                     118                               14            13   \n",
       "738                     231                               35            14   \n",
       "739                     179                               45            14   \n",
       "\n",
       "     Age  Work load Average/day   ...  Disciplinary failure  Education  Son  \\\n",
       "0     33                 239.554  ...                     0          1    2   \n",
       "1     50                 239.554  ...                     1          1    1   \n",
       "2     38                 239.554  ...                     0          1    0   \n",
       "3     39                 239.554  ...                     0          1    2   \n",
       "4     33                 239.554  ...                     0          1    2   \n",
       "..   ...                     ...  ...                   ...        ...  ...   \n",
       "735   33                 264.604  ...                     0          1    2   \n",
       "736   37                 264.604  ...                     0          3    1   \n",
       "737   40                 271.219  ...                     0          1    1   \n",
       "738   39                 271.219  ...                     0          1    2   \n",
       "739   53                 271.219  ...                     0          1    1   \n",
       "\n",
       "     Social drinker  Social smoker  Pet  Weight  Height  Body mass index  \\\n",
       "0                 1              0    1      90     172               30   \n",
       "1                 1              0    0      98     178               31   \n",
       "2                 1              0    0      89     170               31   \n",
       "3                 1              1    0      68     168               24   \n",
       "4                 1              0    1      90     172               30   \n",
       "..              ...            ...  ...     ...     ...              ...   \n",
       "735               1              0    1      90     172               30   \n",
       "736               0              0    1      88     172               29   \n",
       "737               1              0    8      98     170               34   \n",
       "738               1              0    2     100     170               35   \n",
       "739               0              0    1      77     175               25   \n",
       "\n",
       "     Absenteeism time in hours  \n",
       "0                            4  \n",
       "1                            0  \n",
       "2                            2  \n",
       "3                            4  \n",
       "4                            2  \n",
       "..                         ...  \n",
       "735                          8  \n",
       "736                          4  \n",
       "737                          0  \n",
       "738                          0  \n",
       "739                          0  \n",
       "\n",
       "[740 rows x 21 columns]"
      ]
     },
     "execution_count": 7,
     "metadata": {},
     "output_type": "execute_result"
    }
   ],
   "source": [
    "# we have a look at the dataset\n",
    "df"
   ]
  },
  {
   "cell_type": "code",
   "execution_count": 8,
   "metadata": {},
   "outputs": [
    {
     "data": {
      "image/png": "[encoded data removed]",
      "text/plain": [
       "<Figure size 864x288 with 1 Axes>"
      ]
     },
     "metadata": {
      "needs_background": "light"
     },
     "output_type": "display_data"
    }
   ],
   "source": [
    "# we plot the histogram of the absenteeism time in hours (omitting the zero value)\n",
    "pl.figure(figsize=(12,4))\n",
    "bins = [10, 20, 30, 40, 50, 60, 70, 80, 90, 100]\n",
    "pl.hist(df[\"Absenteeism time in hours\"], bins=bins, rwidth=0.5, align='left')\n",
    "pl.xlabel(\"absenteeism time [hours]\")\n",
    "pl.ylabel(\"frequency\")\n",
    "pl.xticks(bins);"
   ]
  },
  {
   "cell_type": "code",
   "execution_count": 9,
   "metadata": {},
   "outputs": [
    {
     "data": {
      "image/png": "[encoded data removed]",
      "text/plain": [
       "<Figure size 1152x576 with 4 Axes>"
      ]
     },
     "metadata": {
      "needs_background": "light"
     },
     "output_type": "display_data"
    }
   ],
   "source": [
    "# now we plot the conditional frequencies for different values of the \"Education\" attribute.\n",
    "pl.figure(figsize=(16,8))\n",
    "for i, edu in enumerate(df[\"Education\"].unique()):\n",
    "    pl.subplot(2, 2, i+1)\n",
    "    dff = df[df[\"Education\"] == edu]\n",
    "    pl.hist(dff[\"Absenteeism time in hours\"], bins=bins, rwidth=0.5, align='left')\n",
    "    pl.xlabel(\"absenteeism time [hours]\")\n",
    "    pl.ylabel(\"frequency\")\n",
    "    pl.xticks(bins)\n",
    "    pl.yticks([0, 2, 4, 6, 8, 10, 12])\n",
    "    pl.legend([f\"education={edu}\"])\n",
    "    #pl.semilogy()"
   ]
  },
  {
   "cell_type": "code",
   "execution_count": 10,
   "metadata": {},
   "outputs": [],
   "source": [
    "# Now we calculate the frequencies for a combination of the \"Age\" and \"Service times\" attributes.\n",
    "# We do this by manually filtering the dataset and grouping it by the two properties.\n",
    "# (we could also have equally well used Pandas' `.groupby()` function for this)\n",
    "ages = [25, 30, 35, 40, 45, 50, 55]\n",
    "service_times = [0, 5, 10, 15, 20, 25]\n",
    "m = np.zeros((len(ages), len(service_times)), dtype=np.int)\n",
    "for i, age in enumerate(ages):\n",
    "    for j, service_time in enumerate(service_times):\n",
    "        dff = df[(df[\"Age\"] >= age) & (df[\"Age\"] < age+5) & (df[\"Service time\"] >= service_time) & (df[\"Service time\"] < service_time+5)]\n",
    "        m[i,j] = len(dff)"
   ]
  },
  {
   "cell_type": "code",
   "execution_count": 11,
   "metadata": {},
   "outputs": [
    {
     "name": "stderr",
     "output_type": "stream",
     "text": [
      "<ipython-input-11-962c1a818e5b>:5: UserWarning: FixedFormatter should only be used together with FixedLocator\n",
      "  ax.set_yticklabels(['']+ages)\n",
      "<ipython-input-11-962c1a818e5b>:6: UserWarning: FixedFormatter should only be used together with FixedLocator\n",
      "  ax.set_xticklabels(['']+service_times)\n"
     ]
    },
    {
     "data": {
      "text/plain": [
       "Text(0, 0.5, 'age')"
      ]
     },
     "execution_count": 11,
     "metadata": {},
     "output_type": "execute_result"
    },
    {
     "data": {
      "image/png": "[encoded data removed]",
      "text/plain": [
       "<Figure size 432x432 with 1 Axes>"
      ]
     },
     "metadata": {
      "needs_background": "light"
     },
     "output_type": "display_data"
    }
   ],
   "source": [
    "# we plot the frequencies as a matrix plot\n",
    "pl.figure(figsize=(6,6))\n",
    "ax = pl.subplot(111)\n",
    "ax.matshow(m, aspect='auto')\n",
    "ax.set_yticklabels(['']+ages)\n",
    "ax.set_xticklabels(['']+service_times)\n",
    "ax.set_xlabel('service time')\n",
    "ax.xaxis.set_label_position('top') \n",
    "pl.ylabel(\"age\")"
   ]
  },
  {
   "cell_type": "code",
   "execution_count": 22,
   "metadata": {},
   "outputs": [],
   "source": [
    "time_bins = [10, 20, 30, 40, 50, 60, 70, 80, 90, 100]\n",
    "# we always exclude the right value, as this is also done in the histograms above\n",
    "df[\"Age-bins\"] = pd.cut(df[\"Age\"], bins=ages, right=False)\n",
    "df[\"Service time-bins\"] = pd.cut(df[\"Service time\"], bins=service_times, right=False)\n",
    "df[\"Absenteeism time-bins\"] = pd.cut(df[\"Absenteeism time in hours\"], bins=time_bins, right=False)"
   ]
  },
  {
   "cell_type": "code",
   "execution_count": 23,
   "metadata": {},
   "outputs": [],
   "source": [
    "# we re-initialize the Dwork dataset with the new binned values\n",
    "ds = PandasDataset(AbsenteeismSchema, df)"
   ]
  },
  {
   "cell_type": "code",
   "execution_count": 24,
   "metadata": {},
   "outputs": [],
   "source": [
    "# we group by education\n",
    "ds_by_time = ds.group_by(by=[\"Absenteeism time-bins\"])"
   ]
  },
  {
   "cell_type": "code",
   "execution_count": 25,
   "metadata": {},
   "outputs": [],
   "source": [
    "epsilon = 0.5\n",
    "dp_bins = []\n",
    "dp_frequencies = []\n",
    "for group, dataset in zip(ds_by_time.groups, ds_by_time.datasets):\n",
    "    dp_bins.append(group.left)\n",
    "    dp_frequencies.append(dataset.len().dp(epsilon=epsilon))"
   ]
  },
  {
   "cell_type": "code",
   "execution_count": 26,
   "metadata": {},
   "outputs": [
    {
     "data": {
      "image/png": "[encoded data removed]",
      "text/plain": [
       "<Figure size 864x288 with 1 Axes>"
      ]
     },
     "metadata": {
      "needs_background": "light"
     },
     "output_type": "display_data"
    }
   ],
   "source": [
    "pl.figure(figsize=(12,4))\n",
    "pl.bar(dp_bins, dp_frequencies, width=5)\n",
    "pl.xlabel(\"absenteeism time [hours]\")\n",
    "pl.ylabel(\"frequency\")\n",
    "pl.xticks(dp_bins);"
   ]
  },
  {
   "cell_type": "code",
   "execution_count": 27,
   "metadata": {},
   "outputs": [],
   "source": [
    "# we group by education\n",
    "ds_by_education = ds.group_by(by=[\"Education\"])"
   ]
  },
  {
   "cell_type": "code",
   "execution_count": 30,
   "metadata": {},
   "outputs": [
    {
     "data": {
      "image/png": "[encoded data removed]",
      "text/plain": [
       "<Figure size 1152x576 with 4 Axes>"
      ]
     },
     "metadata": {
      "needs_background": "light"
     },
     "output_type": "display_data"
    }
   ],
   "source": [
    "pl.figure(figsize=(16,8))\n",
    "\n",
    "# we first iterate through the data that was grouped by education\n",
    "for i, (group, dataset) in enumerate(zip(ds_by_education.groups, ds_by_education.datasets)):\n",
    "    pl.subplot(2, 2, i+1)\n",
    "\n",
    "    # we then group by absenteeism time, as before\n",
    "    dsg_by_time = dataset.group_by(by=[\"Absenteeism time-bins\"])\n",
    "\n",
    "    # and we manually calculate a histogram again\n",
    "    dp_bins = []\n",
    "    dp_frequencies = []\n",
    "    for sub_group, sub_dataset in zip(dsg_by_time.groups, dsg_by_time.datasets):\n",
    "        dp_bins.append(sub_group.left)\n",
    "        dp_frequencies.append(sub_dataset.len().dp(epsilon=epsilon))\n",
    "    \n",
    "    pl.bar(dp_bins, dp_frequencies, width=5)\n",
    "    \n",
    "    pl.xlabel(\"absenteeism time [hours]\")\n",
    "    pl.legend([f\"education={group}\"])\n",
    "    pl.yticks([0, 2, 4, 6, 8, 10, 12])\n",
    "    pl.ylabel(\"frequency\")\n"
   ]
  },
  {
   "cell_type": "code",
   "execution_count": 42,
   "metadata": {},
   "outputs": [],
   "source": [
    "# Now we calculate the frequencies for a combination of the \"Age\" and \"Service times\" attributes.\n",
    "# We do this by manually filtering the dataset and grouping it by the two properties.\n",
    "# (we could also have equally well used Pandas' `.groupby()` function for this)\n",
    "mdp = np.zeros((len(ages), len(service_times)), dtype=np.int)\n",
    "\n",
    "dsg = ds.group_by(by=[\"Service time-bins\", \"Age-bins\"])\n",
    "\n",
    "for group, dataset in zip(dsg.groups, dsg.datasets):\n",
    "    iy = service_times.index(group[0].left)\n",
    "    ix = ages.index(group[1].left)\n",
    "    mdp[ix,iy] = dataset.len().dp(epsilon=epsilon)"
   ]
  },
  {
   "cell_type": "code",
   "execution_count": 44,
   "metadata": {},
   "outputs": [
    {
     "name": "stderr",
     "output_type": "stream",
     "text": [
      "<ipython-input-44-ae10d2ac5590>:5: UserWarning: FixedFormatter should only be used together with FixedLocator\n",
      "  ax.set_yticklabels(['']+ages)\n",
      "<ipython-input-44-ae10d2ac5590>:6: UserWarning: FixedFormatter should only be used together with FixedLocator\n",
      "  ax.set_xticklabels(['']+service_times)\n"
     ]
    },
    {
     "data": {
      "text/plain": [
       "Text(0, 0.5, 'age')"
      ]
     },
     "execution_count": 44,
     "metadata": {},
     "output_type": "execute_result"
    },
    {
     "data": {
      "image/png": "[encoded data removed]",
      "text/plain": [
       "<Figure size 432x432 with 1 Axes>"
      ]
     },
     "metadata": {
      "needs_background": "light"
     },
     "output_type": "display_data"
    }
   ],
   "source": [
    "# we plot the frequencies as a matrix plot\n",
    "pl.figure(figsize=(6,6))\n",
    "ax = pl.subplot(111)\n",
    "ax.matshow(mdp, aspect='auto')\n",
    "ax.set_yticklabels(['']+ages)\n",
    "ax.set_xticklabels(['']+service_times)\n",
    "ax.set_xlabel('service time')\n",
    "ax.xaxis.set_label_position('top') \n",
    "pl.ylabel(\"age\")"
   ]
  },
  {
   "cell_type": "code",
   "execution_count": null,
   "metadata": {},
   "outputs": [],
   "source": []
  }
 ],
 "metadata": {
  "kernelspec": {
   "display_name": "Python 3",
   "language": "python",
   "name": "python3"
  },
  "language_info": {
   "codemirror_mode": {
    "name": "ipython",
    "version": 3
   },
   "file_extension": ".py",
   "mimetype": "text/x-python",
   "name": "python",
   "nbconvert_exporter": "python",
   "pygments_lexer": "ipython3",
   "version": "3.8.5"
  }
 },
 "nbformat": 4,
 "nbformat_minor": 4
}
